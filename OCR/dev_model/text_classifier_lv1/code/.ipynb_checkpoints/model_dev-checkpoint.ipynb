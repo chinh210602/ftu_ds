{
 "cells": [
  {
   "cell_type": "code",
   "execution_count": 12,
   "metadata": {},
   "outputs": [],
   "source": [
    "import pandas as pd \n",
    "import numpy as np\n",
    "import pickle"
   ]
  },
  {
   "cell_type": "code",
   "execution_count": 13,
   "metadata": {},
   "outputs": [],
   "source": [
    "df_train = pd.read_csv(\"../data/data_train.csv\")\n",
    "x_train = df_train['x']\n",
    "y_train = df_train['y']"
   ]
  },
  {
   "cell_type": "markdown",
   "metadata": {},
   "source": [
    "### Preprocessing train data"
   ]
  },
  {
   "cell_type": "code",
   "execution_count": 14,
   "metadata": {},
   "outputs": [],
   "source": [
    "from sklearn.feature_extraction.text import CountVectorizer, TfidfTransformer\n",
    "from sklearn.naive_bayes import MultinomialNB"
   ]
  },
  {
   "cell_type": "code",
   "execution_count": 15,
   "metadata": {},
   "outputs": [],
   "source": [
    "count_vectorizer = CountVectorizer()\n",
    "transform = TfidfTransformer()\n",
    "\n",
    "x_train = count_vectorizer.fit_transform(x_train)\n",
    "x_train = transform.fit_transform(x_train)\n",
    "x_train.shape\n",
    "\n",
    "pickle.dump(count_vectorizer, open(\"../utils/count_vectorizer.pickle\", \"wb\"))\n",
    "pickle.dump(transform, open(\"../utils/transform.pickle\", \"wb\"))"
   ]
  },
  {
   "cell_type": "code",
   "execution_count": null,
   "metadata": {},
   "outputs": [],
   "source": [
    "label_dict = {\"date\": 0,\n",
    "              \"type\": 1,\n",
    "              \"volume\": 2,\n",
    "              \"amount\": 3,\n",
    "              \"unk\": 4}\n",
    "def convert_label(y, label_dict):\n",
    "    return y.map(lambda x: label_dict[x])"
   ]
  },
  {
   "cell_type": "code",
   "execution_count": null,
   "metadata": {
    "scrolled": true
   },
   "outputs": [],
   "source": [
    "y_train = convert_label(y_train, label_dict)\n",
    "y_train"
   ]
  },
  {
   "cell_type": "code",
   "execution_count": null,
   "metadata": {},
   "outputs": [],
   "source": [
    "naive_bayes = MultinomialNB()\n",
    "naive_bayes.fit(x_train, y_train)"
   ]
  },
  {
   "cell_type": "code",
   "execution_count": null,
   "metadata": {},
   "outputs": [],
   "source": [
    "np.mean(naive_bayes.predict(x_train) == y_train)"
   ]
  },
  {
   "cell_type": "code",
   "execution_count": null,
   "metadata": {},
   "outputs": [],
   "source": [
    "df_test = pd.read_csv(\"../data/data_test.csv\")"
   ]
  },
  {
   "cell_type": "code",
   "execution_count": null,
   "metadata": {},
   "outputs": [],
   "source": [
    "def eval(x, y, type = \"accuracy\", count_vectorizer=count_vectorizer, transform=transform, label_dict=label_dict):\n",
    "    x = count_vectorizer.transform(x)\n",
    "    x = transform.transform(x)\n",
    "    y = convert_label(y, label_dict)\n",
    "\n",
    "    if type == \"accuracy\":\n",
    "        print(np.mean(naive_bayes.predict(x) == y)*100)"
   ]
  },
  {
   "cell_type": "code",
   "execution_count": null,
   "metadata": {},
   "outputs": [],
   "source": [
    "x_test = df_test['x']\n",
    "y_test = df_test['y']\n",
    "eval(x_test, y_test)"
   ]
  },
  {
   "cell_type": "code",
   "execution_count": null,
   "metadata": {},
   "outputs": [],
   "source": [
    "custom_test = np.array(['01/08/2020 20:13'])\n",
    "custom_test = count_vectorizer.transform(custom_test)\n",
    "custom_test = transform.transform(custom_test)\n",
    "naive_bayes.predict(custom_test)"
   ]
  },
  {
   "cell_type": "code",
   "execution_count": null,
   "metadata": {},
   "outputs": [],
   "source": [
    "import pickle"
   ]
  },
  {
   "cell_type": "code",
   "execution_count": null,
   "metadata": {},
   "outputs": [],
   "source": [
    "filename = \"../model/NB_v2.sav\"\n",
    "pickle.dump(naive_bayes, open(filename, 'wb'))"
   ]
  },
  {
   "cell_type": "code",
   "execution_count": null,
   "metadata": {},
   "outputs": [],
   "source": []
  }
 ],
 "metadata": {
  "kernelspec": {
   "display_name": "Python 3 (ipykernel)",
   "language": "python",
   "name": "python3"
  },
  "language_info": {
   "codemirror_mode": {
    "name": "ipython",
    "version": 3
   },
   "file_extension": ".py",
   "mimetype": "text/x-python",
   "name": "python",
   "nbconvert_exporter": "python",
   "pygments_lexer": "ipython3",
   "version": "3.11.4"
  }
 },
 "nbformat": 4,
 "nbformat_minor": 4
}
